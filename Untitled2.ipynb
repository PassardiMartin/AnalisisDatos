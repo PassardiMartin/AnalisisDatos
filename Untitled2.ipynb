{
  "nbformat": 4,
  "nbformat_minor": 0,
  "metadata": {
    "colab": {
      "provenance": [],
      "authorship_tag": "ABX9TyNvvMnFS/ERl9iBk8h30mne",
      "include_colab_link": true
    },
    "kernelspec": {
      "name": "python3",
      "display_name": "Python 3"
    },
    "language_info": {
      "name": "python"
    }
  },
  "cells": [
    {
      "cell_type": "markdown",
      "metadata": {
        "id": "view-in-github",
        "colab_type": "text"
      },
      "source": [
        "<a href=\"https://colab.research.google.com/github/PassardiMartin/AnalisisDatos/blob/main/Untitled2.ipynb\" target=\"_parent\"><img src=\"https://colab.research.google.com/assets/colab-badge.svg\" alt=\"Open In Colab\"/></a>"
      ]
    },
    {
      "cell_type": "code",
      "execution_count": null,
      "metadata": {
        "id": "MG4eoBC64haW"
      },
      "outputs": [],
      "source": []
    },
    {
      "cell_type": "code",
      "source": [
        "import pandas as pd   #importamos la libreria pandas para poder leer el csv\n",
        "import numpy as np\n",
        "\n",
        "\n",
        "def arreglar_columnas(columnas):\n",
        "  for i in range(len(columnas)):\n",
        "      columnas[i] = columnas[i].replace(\" \",\"\")\n",
        "  return columnas\n",
        "\n",
        "def resolver_espacios(valor): #Funcion que elimina el espacio de delante y si el valor es nan o vacio, le pone None para que el dropna lo saque\n",
        "    valor = str(valor)\n",
        "    if valor[0] == ' ':\n",
        "        valor = valor[1:]\n",
        "    if valor == '':\n",
        "        valor = np.nan\n",
        "    if valor == 'nan':\n",
        "        valor = np.nan\n",
        "    return valor\n",
        "\n",
        "\n",
        "csv = pd.read_csv(\"/content/BestBattingAverage.csv\")\n",
        "csvColumnas = list(csv.columns)\n",
        "\n",
        "csv.columns = arreglar_columnas(csvColumnas) # se le aplica la funcion a la lista de columnas\n",
        "\n",
        "csv = csv.applymap(resolver_espacios)\n",
        "\n",
        "# csv[\"Altura\"] = csv[\"Altura\"].apply(resolver_altura)\n",
        "\n",
        "# csv = csv.fillna(\"-\")\n",
        "\n",
        "csv.dropna(inplace=True) # elimina las filas que contengan valores vacios\n",
        "# csv.dropna(how=\"all\") # elimina las filas si todos los valores son nulos\n",
        "\n",
        "# csv.to_csv('./nuevo.csv')\n",
        "print(csv)\n",
        "\n",
        "\n"
      ],
      "metadata": {
        "colab": {
          "base_uri": "https://localhost:8080/"
        },
        "id": "pn8eZDCg5NET",
        "outputId": "92f239d1-006f-49e6-986a-9d3489f8e924"
      },
      "execution_count": 7,
      "outputs": [
        {
          "output_type": "stream",
          "name": "stdout",
          "text": [
            "  Position             Players MatchesPlayed NotOut Runs HighestScore Average  \\\n",
            "0        1       Deepti Sharma             8      5  295           88   98.33   \n",
            "1        2        Ellyse Perry             9      4  347           66    69.4   \n",
            "2        3    Harmanpreet Kaur             7      2  268           95    53.6   \n",
            "3        4         Beth Mooney             8      2  285           85    47.5   \n",
            "4        5         Richa Ghosh            10      3  257           62   42.83   \n",
            "5        6   Jemimah Rodrigues             9      3  235           69   39.16   \n",
            "6        7       Shafali Verma             9      1  309           71   38.62   \n",
            "7        8         Meg Lanning             9      0  331           60   36.77   \n",
            "8        9         Amelia Kerr             9      3  215           40   35.83   \n",
            "9       10  Sabbhineni Meghana             7      1  168           53    33.6   \n",
            "\n",
            "  StrikeRate 100s 50s  4s  6s Ducks  \n",
            "0     136.57    0   3  34   8     0  \n",
            "1     125.72    0   2  41   7     0  \n",
            "2     141.05    0   2  30   8     1  \n",
            "3     141.08    0   3  38   5     1  \n",
            "4     141.98    0   2  31  10     0  \n",
            "5     153.59    0   2  26   8     2  \n",
            "6     156.85    0   3  27  20     0  \n",
            "7     123.04    0   4  47   4     0  \n",
            "8     129.51    0   0  23   3     0  \n",
            "9     112.75    0   1  20   3     0  \n"
          ]
        }
      ]
    }
  ]
}