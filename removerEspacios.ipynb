{
  "nbformat": 4,
  "nbformat_minor": 0,
  "metadata": {
    "colab": {
      "provenance": [],
      "toc_visible": true,
      "authorship_tag": "ABX9TyM2sy7GLQTXG7Pinzk9yR/S",
      "include_colab_link": true
    },
    "kernelspec": {
      "name": "python3",
      "display_name": "Python 3"
    },
    "language_info": {
      "name": "python"
    }
  },
  "cells": [
    {
      "cell_type": "markdown",
      "metadata": {
        "id": "view-in-github",
        "colab_type": "text"
      },
      "source": [
        "<a href=\"https://colab.research.google.com/github/PassardiMartin/AnalisisDatos/blob/main/removerEspacios.ipynb\" target=\"_parent\"><img src=\"https://colab.research.google.com/assets/colab-badge.svg\" alt=\"Open In Colab\"/></a>"
      ]
    },
    {
      "cell_type": "code",
      "source": [
        "\n",
        "\n",
        "listita = [\" hh h h h\",\"5 6 7\",\"qwe qwe ert\"]\n",
        "\n",
        "def removerEspacios(listita):\n",
        "  for a in listita:\n",
        "    listita[listita.index(a)] = {a.replace(\" \", \"\")}\n",
        "  return listita\n",
        "print(removerEspacios(listita))"
      ],
      "metadata": {
        "colab": {
          "base_uri": "https://localhost:8080/"
        },
        "id": "tzQeeK4G3h3H",
        "outputId": "acb24111-b78a-4681-9fad-2049f63a5499"
      },
      "execution_count": 13,
      "outputs": [
        {
          "output_type": "stream",
          "name": "stdout",
          "text": [
            "[{'hhhhh'}, {'567'}, {'qweqweert'}]\n"
          ]
        }
      ]
    },
    {
      "cell_type": "markdown",
      "source": [],
      "metadata": {
        "id": "AGsR96EFE6Vp"
      }
    }
  ]
}